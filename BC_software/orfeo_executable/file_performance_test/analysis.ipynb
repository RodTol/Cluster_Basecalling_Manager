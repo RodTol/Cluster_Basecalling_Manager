{
 "cells": [
  {
   "cell_type": "code",
   "execution_count": 148,
   "id": "70d8efe6-a40f-49fe-948a-d9ba0f0a1da1",
   "metadata": {},
   "outputs": [],
   "source": [
    "import os\n",
    "import re\n",
    "import sys\n",
    "from collections import defaultdict\n",
    "from IPython.display import HTML, display\n",
    "\n",
    "def print_in_red(text):\n",
    "    display(HTML(f'<span style=\"color:red\">{text}</span>'))\n",
    "    \n",
    "def extract_num_input_files(log_content):\n",
    "    match = re.search(r'Found (\\d+) input read files to process', log_content)\n",
    "    if match:\n",
    "        return int(match.group(1))\n",
    "    return 0\n",
    "\n",
    "def extract_samples_per_second(file_path):\n",
    "    with open(file_path, 'r') as file:\n",
    "        content = file.read()\n",
    "    \n",
    "    pattern = re.compile(r'Caller time: \\d+ ms, Samples called: \\d+, samples/s: (\\d+\\.?\\d*)e?(\\+?-?\\d*)')\n",
    "    match = pattern.search(content)\n",
    "    \n",
    "    num_input_files = extract_num_input_files(content)\n",
    "    \n",
    "    if num_input_files>20:\n",
    "        if match:\n",
    "            samples_per_second = float(match.group(1) + 'e' + match.group(2))\n",
    "            return samples_per_second\n",
    "        else:\n",
    "            print(f\"Pattern not found in the file: {file_path}\")\n",
    "            return None\n",
    "    else:\n",
    "        print_in_red(f\"Too few file processed: {num_input_files}\")\n",
    "        print(f\"In the file: {file_path}\")\n",
    "\n",
    "        return None\n",
    "\n",
    "\n",
    "def process_files(directory_path, file_patterns):\n",
    "    samples_per_second_dict = defaultdict(list)\n",
    "\n",
    "    # Iterate over files in the specified directory based on the file patterns\n",
    "    for file_pattern in file_patterns:\n",
    "        for filename in os.listdir(directory_path):\n",
    "            if re.match(file_pattern, filename):\n",
    "                file_path = os.path.join(directory_path, filename)\n",
    "                result = extract_samples_per_second(file_path)\n",
    "\n",
    "                if result is not None:\n",
    "                    samples_per_second_dict[file_pattern].append((filename, result))\n",
    "\n",
    "    return samples_per_second_dict\n",
    "\n",
    "def calculate_average(samples_per_second_dict):\n",
    "    averages = {}\n",
    "\n",
    "    for file_pattern, results in samples_per_second_dict.items():\n",
    "        if results:\n",
    "            average_value = sum(value for _, value in results) / len(results)\n",
    "            averages[file_pattern] = average_value\n",
    "        else:\n",
    "            averages[file_pattern] = None\n",
    "\n",
    "    return averages\n",
    "\n",
    "def calculate_var(average, samples_per_second_dict):\n",
    "    var = {}\n",
    "    for file_pattern, results in samples_per_second_dict.items():\n",
    "        if results:\n",
    "            var_value = sum((value-average[file_pattern])**2 for _, value in results) / len(results)\n",
    "            var[file_pattern] = var_value\n",
    "        else:\n",
    "            var[file_pattern] = None\n",
    "\n",
    "    return var"
   ]
  },
  {
   "cell_type": "code",
   "execution_count": 149,
   "id": "b662e8d6-c568-4f88-8404-48c98e49d288",
   "metadata": {},
   "outputs": [],
   "source": [
    "def sum_averages(dir_path):\n",
    "    directory_path = dir_path\n",
    "    file_patterns = [r'dgx001_\\d+_hac\\.txt',r'dgx002_\\d+_hac\\.txt', r'gpu001_\\d+_hac\\.txt', r'gpu002_\\d+_hac\\.txt', r'gpu003_\\d+_hac\\.txt', r'gpu004_\\d+_hac\\.txt',\n",
    "                    r'dgx001_\\d+_sup\\.txt',r'dgx002_\\d+_sup\\.txt', r'gpu001_\\d+_sup\\.txt', r'gpu002_\\d+_sup\\.txt', r'gpu003_\\d+_sup\\.txt', r'gpu004_\\d+_sup\\.txt']\n",
    "    results = process_files(directory_path, file_patterns)\n",
    "    \n",
    "    if results:\n",
    "        print(\"Samples per second for each file pattern:\")\n",
    "        for file_pattern, file_results in results.items():\n",
    "            print(f\"\\nFile pattern: {file_pattern}\")\n",
    "            for i, (filename, result) in enumerate(file_results, start=1):\n",
    "                print(f\"  File {i}: {filename}, Samples per second: {result}\")\n",
    "    \n",
    "            average_values = calculate_average(results)\n",
    "            if average_values[file_pattern] is not None:\n",
    "                print(f\"  Average samples per second: {average_values[file_pattern]}\")\n",
    "            else:\n",
    "                print(\"  Unable to calculate the average.\")\n",
    "    \n",
    "        print(average_values)\n",
    "        # Print the sum of averages for both file patterns\n",
    "        sum_of_averages = sum(average_value for average_value in average_values.values() if average_value is not None)\n",
    "        print(f\"\\nSum of averages for both patterns: {sum_of_averages}\")\n",
    "        return sum_of_averages\n"
   ]
  },
  {
   "cell_type": "code",
   "execution_count": 150,
   "id": "fd4e3371-3c67-4543-a7d8-9683227ed7a4",
   "metadata": {
    "tags": []
   },
   "outputs": [],
   "source": [
    "def compute_variance(dir_path):\n",
    "    directory_path = dir_path\n",
    "    file_patterns = [r'dgx001_\\d+_hac\\.txt',r'dgx002_\\d+_hac\\.txt', r'gpu001_\\d+_hac\\.txt', r'gpu002_\\d+_hac\\.txt', r'gpu003_\\d+_hac\\.txt', r'gpu004_\\d+_hac\\.txt',\n",
    "                    r'dgx001_\\d+_sup\\.txt',r'dgx002_\\d+_sup\\.txt', r'gpu001_\\d+_sup\\.txt', r'gpu002_\\d+_sup\\.txt', r'gpu003_\\d+_sup\\.txt', r'gpu004_\\d+_sup\\.txt']\n",
    "    results = process_files(directory_path, file_patterns)\n",
    "    \n",
    "    if results:\n",
    "        #print(\"Samples per second for each file pattern:\")\n",
    "        for file_pattern, file_results in results.items():\n",
    "            print(f\"\\nFile pattern: {file_pattern}\")\n",
    "            for i, (filename, result) in enumerate(file_results, start=1):\n",
    "                print(f\"  File {i}: {filename}, Samples per second: {result}\")\n",
    "    \n",
    "            average_values = calculate_average(results)\n",
    "            var = calculate_var(average_values, results)\n",
    "            if average_values[file_pattern] is not None:\n",
    "                print(f\"  Variance for samples per second: {var[file_pattern]}\")\n",
    "            else:\n",
    "                print(\"  Unable to calculate the Variance.\")\n"
   ]
  },
  {
   "cell_type": "code",
   "execution_count": 155,
   "id": "7fd5a2c6-a693-4786-9682-634aa88c5b2e",
   "metadata": {},
   "outputs": [
    {
     "name": "stdout",
     "output_type": "stream",
     "text": [
      "\n",
      "AVERAGE\n",
      "Samples per second for each file pattern:\n",
      "\n",
      "File pattern: dgx002_\\d+_sup\\.txt\n",
      "  File 1: dgx002_1_sup.txt, Samples per second: 492338000.0\n",
      "  Average samples per second: 492338000.0\n",
      "{'dgx002_\\\\d+_sup\\\\.txt': 492338000.0}\n",
      "\n",
      "Sum of averages for both patterns: 492338000.0\n",
      "\n",
      "AVERAGE\n",
      "Samples per second for each file pattern:\n",
      "\n",
      "File pattern: dgx002_\\d+_sup\\.txt\n",
      "  File 1: dgx002_1_sup.txt, Samples per second: 481509000.0\n",
      "  File 2: dgx002_2_sup.txt, Samples per second: 501534000.0\n",
      "  Average samples per second: 491521500.0\n",
      "{'dgx002_\\\\d+_sup\\\\.txt': 491521500.0}\n",
      "\n",
      "Sum of averages for both patterns: 491521500.0\n",
      "\n",
      "AVERAGE\n"
     ]
    },
    {
     "data": {
      "text/html": [
       "<span style=\"color:red\">Too few file processed: 2</span>"
      ],
      "text/plain": [
       "<IPython.core.display.HTML object>"
      ]
     },
     "metadata": {},
     "output_type": "display_data"
    },
    {
     "name": "stdout",
     "output_type": "stream",
     "text": [
      "In the file: /u/dssc/tolloi/Cluster_Basecalling_Manager/BC_software/orfeo_executable/file_performance_test/bc_logs/run_3_splits/dgx002_4_sup.txt\n",
      "Samples per second for each file pattern:\n",
      "\n",
      "File pattern: dgx002_\\d+_sup\\.txt\n",
      "  File 1: dgx002_1_sup.txt, Samples per second: 468895000.0\n",
      "  File 2: dgx002_2_sup.txt, Samples per second: 500091000.0\n",
      "  File 3: dgx002_3_sup.txt, Samples per second: 500669000.0\n",
      "  Average samples per second: 489885000.0\n",
      "{'dgx002_\\\\d+_sup\\\\.txt': 489885000.0}\n",
      "\n",
      "Sum of averages for both patterns: 489885000.0\n",
      "\n",
      "AVERAGE\n",
      "Samples per second for each file pattern:\n",
      "\n",
      "File pattern: dgx002_\\d+_sup\\.txt\n",
      "  File 1: dgx002_4_sup.txt, Samples per second: 502019000.0\n",
      "  File 2: dgx002_1_sup.txt, Samples per second: 467997000.0\n",
      "  File 3: dgx002_2_sup.txt, Samples per second: 501743000.0\n",
      "  File 4: dgx002_3_sup.txt, Samples per second: 501914000.0\n",
      "  Average samples per second: 493418250.0\n",
      "{'dgx002_\\\\d+_sup\\\\.txt': 493418250.0}\n",
      "\n",
      "Sum of averages for both patterns: 493418250.0\n",
      "\n",
      "AVERAGE\n"
     ]
    },
    {
     "data": {
      "text/html": [
       "<span style=\"color:red\">Too few file processed: 4</span>"
      ],
      "text/plain": [
       "<IPython.core.display.HTML object>"
      ]
     },
     "metadata": {},
     "output_type": "display_data"
    },
    {
     "name": "stdout",
     "output_type": "stream",
     "text": [
      "In the file: /u/dssc/tolloi/Cluster_Basecalling_Manager/BC_software/orfeo_executable/file_performance_test/bc_logs/run_5_splits/dgx002_6_sup.txt\n",
      "Samples per second for each file pattern:\n",
      "\n",
      "File pattern: dgx002_\\d+_sup\\.txt\n",
      "  File 1: dgx002_5_sup.txt, Samples per second: 500442000.0\n",
      "  File 2: dgx002_4_sup.txt, Samples per second: 500287000.0\n",
      "  File 3: dgx002_1_sup.txt, Samples per second: 458014000.0\n",
      "  File 4: dgx002_2_sup.txt, Samples per second: 500516000.0\n",
      "  File 5: dgx002_3_sup.txt, Samples per second: 500297000.0\n",
      "  Average samples per second: 491911200.0\n",
      "{'dgx002_\\\\d+_sup\\\\.txt': 491911200.0}\n",
      "\n",
      "Sum of averages for both patterns: 491911200.0\n",
      "\n",
      "AVERAGE\n"
     ]
    },
    {
     "data": {
      "text/html": [
       "<span style=\"color:red\">Too few file processed: 2</span>"
      ],
      "text/plain": [
       "<IPython.core.display.HTML object>"
      ]
     },
     "metadata": {},
     "output_type": "display_data"
    },
    {
     "name": "stdout",
     "output_type": "stream",
     "text": [
      "In the file: /u/dssc/tolloi/Cluster_Basecalling_Manager/BC_software/orfeo_executable/file_performance_test/bc_logs/run_6_splits/dgx002_7_sup.txt\n",
      "Samples per second for each file pattern:\n",
      "\n",
      "File pattern: dgx002_\\d+_sup\\.txt\n",
      "  File 1: dgx002_5_sup.txt, Samples per second: 498535000.0\n",
      "  File 2: dgx002_4_sup.txt, Samples per second: 499045000.0\n",
      "  File 3: dgx002_6_sup.txt, Samples per second: 499169000.0\n",
      "  File 4: dgx002_1_sup.txt, Samples per second: 447931000.0\n",
      "  File 5: dgx002_2_sup.txt, Samples per second: 499440000.0\n",
      "  File 6: dgx002_3_sup.txt, Samples per second: 499039000.0\n",
      "  Average samples per second: 490526500.0\n",
      "{'dgx002_\\\\d+_sup\\\\.txt': 490526500.0}\n",
      "\n",
      "Sum of averages for both patterns: 490526500.0\n",
      "\n",
      "AVERAGE\n"
     ]
    },
    {
     "data": {
      "text/html": [
       "<span style=\"color:red\">Too few file processed: 3</span>"
      ],
      "text/plain": [
       "<IPython.core.display.HTML object>"
      ]
     },
     "metadata": {},
     "output_type": "display_data"
    },
    {
     "name": "stdout",
     "output_type": "stream",
     "text": [
      "In the file: /u/dssc/tolloi/Cluster_Basecalling_Manager/BC_software/orfeo_executable/file_performance_test/bc_logs/run_7_splits/dgx002_8_sup.txt\n",
      "Samples per second for each file pattern:\n",
      "\n",
      "File pattern: dgx002_\\d+_sup\\.txt\n",
      "  File 1: dgx002_5_sup.txt, Samples per second: 498904000.0\n",
      "  File 2: dgx002_4_sup.txt, Samples per second: 498717000.0\n",
      "  File 3: dgx002_6_sup.txt, Samples per second: 498705000.0\n",
      "  File 4: dgx002_1_sup.txt, Samples per second: 438294000.0\n",
      "  File 5: dgx002_2_sup.txt, Samples per second: 498433000.0\n",
      "  File 6: dgx002_7_sup.txt, Samples per second: 499283000.0\n",
      "  File 7: dgx002_3_sup.txt, Samples per second: 498457000.0\n",
      "  Average samples per second: 490113285.71428573\n",
      "{'dgx002_\\\\d+_sup\\\\.txt': 490113285.71428573}\n",
      "\n",
      "Sum of averages for both patterns: 490113285.71428573\n",
      "\n",
      "AVERAGE\n",
      "Samples per second for each file pattern:\n",
      "\n",
      "File pattern: dgx002_\\d+_sup\\.txt\n",
      "  File 1: dgx002_5_sup.txt, Samples per second: 495828000.0\n",
      "  File 2: dgx002_8_sup.txt, Samples per second: 494970000.0\n",
      "  File 3: dgx002_4_sup.txt, Samples per second: 496029000.0\n",
      "  File 4: dgx002_6_sup.txt, Samples per second: 497312000.0\n",
      "  File 5: dgx002_1_sup.txt, Samples per second: 430664000.0\n",
      "  File 6: dgx002_2_sup.txt, Samples per second: 496757000.0\n",
      "  File 7: dgx002_7_sup.txt, Samples per second: 495134000.0\n",
      "  File 8: dgx002_3_sup.txt, Samples per second: 496300000.0\n",
      "  Average samples per second: 487874250.0\n",
      "{'dgx002_\\\\d+_sup\\\\.txt': 487874250.0}\n",
      "\n",
      "Sum of averages for both patterns: 487874250.0\n",
      "\n",
      "AVERAGE\n"
     ]
    },
    {
     "data": {
      "text/html": [
       "<span style=\"color:red\">Too few file processed: 8</span>"
      ],
      "text/plain": [
       "<IPython.core.display.HTML object>"
      ]
     },
     "metadata": {},
     "output_type": "display_data"
    },
    {
     "name": "stdout",
     "output_type": "stream",
     "text": [
      "In the file: /u/dssc/tolloi/Cluster_Basecalling_Manager/BC_software/orfeo_executable/file_performance_test/bc_logs/run_9_splits/dgx002_10_sup.txt\n",
      "Samples per second for each file pattern:\n",
      "\n",
      "File pattern: dgx002_\\d+_sup\\.txt\n",
      "  File 1: dgx002_5_sup.txt, Samples per second: 497252000.0\n",
      "  File 2: dgx002_8_sup.txt, Samples per second: 497495000.0\n",
      "  File 3: dgx002_4_sup.txt, Samples per second: 495394000.0\n",
      "  File 4: dgx002_6_sup.txt, Samples per second: 497644000.0\n",
      "  File 5: dgx002_1_sup.txt, Samples per second: 425083000.0\n",
      "  File 6: dgx002_2_sup.txt, Samples per second: 497486000.0\n",
      "  File 7: dgx002_9_sup.txt, Samples per second: 497788000.0\n",
      "  File 8: dgx002_7_sup.txt, Samples per second: 497582000.0\n",
      "  File 9: dgx002_3_sup.txt, Samples per second: 496866000.0\n",
      "  Average samples per second: 489176666.6666667\n",
      "{'dgx002_\\\\d+_sup\\\\.txt': 489176666.6666667}\n",
      "\n",
      "Sum of averages for both patterns: 489176666.6666667\n",
      "\n",
      "AVERAGE\n"
     ]
    },
    {
     "data": {
      "text/html": [
       "<span style=\"color:red\">Too few file processed: 4</span>"
      ],
      "text/plain": [
       "<IPython.core.display.HTML object>"
      ]
     },
     "metadata": {},
     "output_type": "display_data"
    },
    {
     "name": "stdout",
     "output_type": "stream",
     "text": [
      "In the file: /u/dssc/tolloi/Cluster_Basecalling_Manager/BC_software/orfeo_executable/file_performance_test/bc_logs/run_10_splits/dgx002_11_sup.txt\n",
      "Samples per second for each file pattern:\n",
      "\n",
      "File pattern: dgx002_\\d+_sup\\.txt\n",
      "  File 1: dgx002_5_sup.txt, Samples per second: 497452000.0\n",
      "  File 2: dgx002_8_sup.txt, Samples per second: 496729000.0\n",
      "  File 3: dgx002_4_sup.txt, Samples per second: 497661000.0\n",
      "  File 4: dgx002_6_sup.txt, Samples per second: 497953000.0\n",
      "  File 5: dgx002_10_sup.txt, Samples per second: 498478000.0\n",
      "  File 6: dgx002_1_sup.txt, Samples per second: 417135000.0\n",
      "  File 7: dgx002_2_sup.txt, Samples per second: 497298000.0\n",
      "  File 8: dgx002_9_sup.txt, Samples per second: 497583000.0\n",
      "  File 9: dgx002_7_sup.txt, Samples per second: 497728000.0\n",
      "  File 10: dgx002_3_sup.txt, Samples per second: 497981000.0\n",
      "  Average samples per second: 489599800.0\n",
      "{'dgx002_\\\\d+_sup\\\\.txt': 489599800.0}\n",
      "\n",
      "Sum of averages for both patterns: 489599800.0\n"
     ]
    }
   ],
   "source": [
    "import pandas as pd\n",
    "# Create an empty list to store data\n",
    "data = []\n",
    "\n",
    "# Iterate over the runs\n",
    "for i in range(1, 11):\n",
    "    directory_path = f\"/u/dssc/tolloi/Cluster_Basecalling_Manager/BC_software/orfeo_executable/file_performance_test/bc_logs/run_{i}_splits\"\n",
    "    \n",
    "    # Call sum_averages function\n",
    "    print()\n",
    "    print(\"AVERAGE\")\n",
    "    result = sum_averages(directory_path)\n",
    "    #print()\n",
    "    #print(\"VARIANCE\")\n",
    "    #var = compute_variance(directory_path)\n",
    "    \n",
    "    # Append the result to the list\n",
    "    data.append({'Run': i, 'Batch size' : 584.0/i, 'Sum of Averages': result/(10*1000*1000*1000)})\n",
    "\n",
    "# Convert the list to a DataFrame\n",
    "df = pd.DataFrame(data);\n"
   ]
  },
  {
   "cell_type": "code",
   "execution_count": 153,
   "id": "860617d1-f50d-43a1-a028-ea36c44c2211",
   "metadata": {},
   "outputs": [
    {
     "name": "stdout",
     "output_type": "stream",
     "text": [
      "   Run  Batch size  Sum of Averages\n",
      "0    1  584.000000     4.923380e+08\n",
      "1    2  292.000000     4.915215e+08\n",
      "2    3  194.666667     4.898850e+08\n",
      "3    4  146.000000     4.934182e+08\n",
      "4    5  116.800000     4.919112e+08\n",
      "5    6   97.333333     4.905265e+08\n",
      "6    7   83.428571     4.901133e+08\n",
      "7    8   73.000000     4.878742e+08\n",
      "8    9   64.888889     4.891767e+08\n",
      "9   10   58.400000     4.895998e+08\n"
     ]
    }
   ],
   "source": [
    "# Print the DataFrame\n",
    "print(df)"
   ]
  },
  {
   "cell_type": "code",
   "execution_count": 156,
   "id": "dfbef3ca-e5eb-4937-beac-7e0ba03c6cab",
   "metadata": {
    "tags": []
   },
   "outputs": [
    {
     "data": {
      "image/png": "[encoded data removed]",
      "text/plain": [
       "<Figure size 700x600 with 1 Axes>"
      ]
     },
     "metadata": {},
     "output_type": "display_data"
    }
   ],
   "source": [
    "import matplotlib.pyplot as plt\n",
    "fig, ax = plt.subplots(figsize=(7, 6))\n",
    "\n",
    "plt.scatter(df['Batch size'],df['Sum of Averages'])\n",
    "plt.xscale('log')\n",
    "\n",
    "\n",
    "for i, size in enumerate(df['Batch size']):\n",
    "    ax.annotate(f'{size:.2f}', (size, df['Sum of Averages'].iloc[i]),\n",
    "                textcoords=\"offset points\", xytext=(0, 10), ha='center')\n"
   ]
  },
  {
   "cell_type": "code",
   "execution_count": null,
   "id": "4befc408-d901-42b9-a8db-5c533e9f9704",
   "metadata": {},
   "outputs": [],
   "source": []
  }
 ],
 "metadata": {
  "kernelspec": {
   "display_name": "Python 3 (ipykernel)",
   "language": "python",
   "name": "python3"
  },
  "language_info": {
   "codemirror_mode": {
    "name": "ipython",
    "version": 3
   },
   "file_extension": ".py",
   "mimetype": "text/x-python",
   "name": "python",
   "nbconvert_exporter": "python",
   "pygments_lexer": "ipython3",
   "version": "3.8.10"
  }
 },
 "nbformat": 4,
 "nbformat_minor": 5
}
