{
 "cells": [
  {
   "cell_type": "code",
   "execution_count": 3,
   "metadata": {},
   "outputs": [],
   "source": [
    "import h5py as h5\n",
    "from ont_fast5_api.fast5_interface import *\n"
   ]
  },
  {
   "cell_type": "code",
   "execution_count": 4,
   "metadata": {},
   "outputs": [],
   "source": [
    "def print_read_id(file_name, n_of_read):\n",
    "    with get_fast5_file(file_name, mode=\"r\") as f5:\n",
    "        n = 0\n",
    "        for read in f5.get_reads():\n",
    "            if (n<n_of_read):\n",
    "                print(read.read_id)\n",
    "            n+=1\n",
    "        print(\"# of reads = \" + str(n))"
   ]
  },
  {
   "cell_type": "code",
   "execution_count": 5,
   "metadata": {},
   "outputs": [],
   "source": [
    "def print_read_info(file_name, read_name):\n",
    "    with get_fast5_file(file_name, mode='r') as f5:\n",
    "        read = f5.get_read(read_name)\n",
    "        print(read.get_raw_data())"
   ]
  },
  {
   "cell_type": "code",
   "execution_count": 6,
   "metadata": {},
   "outputs": [],
   "source": [
    "import uuid\n",
    "from ont_fast5_api.conversion_tools.conversion_utils import yield_fast5_reads\n",
    "def copy_with_new_id(input_dir, input_file, output_dir, num_of_dup, start_num_of_dup=0):\n",
    "    for i in range(start_num_of_dup, num_of_dup+start_num_of_dup):\n",
    "        debug = True\n",
    "        output_file = str(input_file).replace('.fast5','') + '_' + str(i+1) + '.fast5'\n",
    "        print('Generating ' + output_file)\n",
    "        output_file = output_dir +'/'+output_file\n",
    "        with MultiFast5File(str(output_file), 'w') as output_f5:\n",
    "            for read_id, read in yield_fast5_reads(input_dir + '/' + input_file, recursive=False):\n",
    "                    dup_read_id = str(uuid.uuid4())\n",
    "                    read.read_id = dup_read_id\n",
    "                    output_f5.add_existing_read(read)\n",
    "                    if(debug):\n",
    "                         print(read_id, dup_read_id)\n",
    "                         debug=False\n",
    "                    "
   ]
  },
  {
   "cell_type": "code",
   "execution_count": null,
   "metadata": {},
   "outputs": [],
   "source": [
    "copy_with_new_id('/AB_20T_input/dataset/dataset_original', 'nanopore2_20170303_FNFAF09968_MN17024_sequencing_run_170303_NA12878_PC_RAD002_0.fast5', '/AB_20T_input/dataset/dataset_fast5_file_0',)"
   ]
  },
  {
   "cell_type": "code",
   "execution_count": null,
   "metadata": {},
   "outputs": [],
   "source": [
    "copy_with_new_id('original_dataset', 'nanopore2_20170303_FNFAF09968_MN17024_sequencing_run_170303_NA12878_PC_RAD002_0.fast5','/TEST_onp_run/dssc/human_dataset_extended/extended',5)"
   ]
  },
  {
   "cell_type": "code",
   "execution_count": null,
   "metadata": {},
   "outputs": [],
   "source": [
    "copy_with_new_id('original_dataset', 'nanopore2_20170303_FNFAF09968_MN17024_sequencing_run_170303_NA12878_PC_RAD002_0.fast5','/TEST_onp_run/dssc/human_dataset_extended/extended',1,start_num_of_dup=5)"
   ]
  },
  {
   "cell_type": "code",
   "execution_count": null,
   "metadata": {},
   "outputs": [],
   "source": [
    "copy_with_new_id('original_dataset', 'nanopore2_20170303_FNFAF09968_MN17024_sequencing_run_170303_NA12878_PC_RAD002_1.fast5','/TEST_onp_run/dssc/human_dataset_extended/extended',5)\n",
    "copy_with_new_id('original_dataset', 'nanopore2_20170303_FNFAF09968_MN17024_sequencing_run_170303_NA12878_PC_RAD002_2.fast5','/TEST_onp_run/dssc/human_dataset_extended/extended',5)\n",
    "copy_with_new_id('original_dataset', 'nanopore2_20170303_FNFAF09968_MN17024_sequencing_run_170303_NA12878_PC_RAD002_3.fast5','/TEST_onp_run/dssc/human_dataset_extended/extended',5)\n",
    "copy_with_new_id('original_dataset', 'nanopore2_20170303_FNFAF09968_MN17024_sequencing_run_170303_NA12878_PC_RAD002_4.fast5','/TEST_onp_run/dssc/human_dataset_extended/extended',5)\n",
    "copy_with_new_id('original_dataset', 'nanopore2_20170303_FNFAF09968_MN17024_sequencing_run_170303_NA12878_PC_RAD002_5.fast5','/TEST_onp_run/dssc/human_dataset_extended/extended',5)"
   ]
  },
  {
   "cell_type": "code",
   "execution_count": null,
   "metadata": {},
   "outputs": [],
   "source": [
    "copy_with_new_id('original_dataset', 'nanopore2_20170303_FNFAF09968_MN17024_sequencing_run_170303_NA12878_PC_RAD002_0.fast5','/TEST_onp_run/dssc/human_dataset_extended/extended',4,start_num_of_dup=6)\n",
    "copy_with_new_id('original_dataset', 'nanopore2_20170303_FNFAF09968_MN17024_sequencing_run_170303_NA12878_PC_RAD002_1.fast5','/TEST_onp_run/dssc/human_dataset_extended/extended',5, start_num_of_dup=5)\n",
    "copy_with_new_id('original_dataset', 'nanopore2_20170303_FNFAF09968_MN17024_sequencing_run_170303_NA12878_PC_RAD002_2.fast5','/TEST_onp_run/dssc/human_dataset_extended/extended',5, start_num_of_dup=5)\n",
    "copy_with_new_id('original_dataset', 'nanopore2_20170303_FNFAF09968_MN17024_sequencing_run_170303_NA12878_PC_RAD002_3.fast5','/TEST_onp_run/dssc/human_dataset_extended/extended',5,start_num_of_dup=5)\n",
    "copy_with_new_id('original_dataset', 'nanopore2_20170303_FNFAF09968_MN17024_sequencing_run_170303_NA12878_PC_RAD002_4.fast5','/TEST_onp_run/dssc/human_dataset_extended/extended',5,start_num_of_dup=5)\n",
    "copy_with_new_id('original_dataset', 'nanopore2_20170303_FNFAF09968_MN17024_sequencing_run_170303_NA12878_PC_RAD002_5.fast5','/TEST_onp_run/dssc/human_dataset_extended/extended',5,start_num_of_dup=5)"
   ]
  },
  {
   "cell_type": "code",
   "execution_count": null,
   "metadata": {},
   "outputs": [],
   "source": [
    "copy_with_new_id('original_dataset', 'nanopore2_20170303_FNFAF09968_MN17024_sequencing_run_170303_NA12878_PC_RAD002_0.fast5','/TEST_onp_run/dssc/human_dataset_extended/extended',10,start_num_of_dup=10)\n",
    "copy_with_new_id('original_dataset', 'nanopore2_20170303_FNFAF09968_MN17024_sequencing_run_170303_NA12878_PC_RAD002_1.fast5','/TEST_onp_run/dssc/human_dataset_extended/extended',10, start_num_of_dup=10)\n",
    "copy_with_new_id('original_dataset', 'nanopore2_20170303_FNFAF09968_MN17024_sequencing_run_170303_NA12878_PC_RAD002_2.fast5','/TEST_onp_run/dssc/human_dataset_extended/extended',10, start_num_of_dup=10)\n",
    "copy_with_new_id('original_dataset', 'nanopore2_20170303_FNFAF09968_MN17024_sequencing_run_170303_NA12878_PC_RAD002_3.fast5','/TEST_onp_run/dssc/human_dataset_extended/extended',10,start_num_of_dup=10)\n",
    "copy_with_new_id('original_dataset', 'nanopore2_20170303_FNFAF09968_MN17024_sequencing_run_170303_NA12878_PC_RAD002_4.fast5','/TEST_onp_run/dssc/human_dataset_extended/extended',10,start_num_of_dup=10)\n",
    "copy_with_new_id('original_dataset', 'nanopore2_20170303_FNFAF09968_MN17024_sequencing_run_170303_NA12878_PC_RAD002_5.fast5','/TEST_onp_run/dssc/human_dataset_extended/extended',10,start_num_of_dup=10)"
   ]
  },
  {
   "cell_type": "code",
   "execution_count": null,
   "metadata": {},
   "outputs": [],
   "source": [
    "copy_with_new_id('original_dataset', 'nanopore2_20170303_FNFAF09968_MN17024_sequencing_run_170303_NA12878_PC_RAD002_0.fast5','/TEST_onp_run/dssc/human_dataset_extended/ultra_extended',200)\n",
    "copy_with_new_id('original_dataset', 'nanopore2_20170303_FNFAF09968_MN17024_sequencing_run_170303_NA12878_PC_RAD002_1.fast5','/TEST_onp_run/dssc/human_dataset_extended/ultra_extended',200)\n",
    "copy_with_new_id('original_dataset', 'nanopore2_20170303_FNFAF09968_MN17024_sequencing_run_170303_NA12878_PC_RAD002_2.fast5','/TEST_onp_run/dssc/human_dataset_extended/ultra_extended',200)\n",
    "copy_with_new_id('original_dataset', 'nanopore2_20170303_FNFAF09968_MN17024_sequencing_run_170303_NA12878_PC_RAD002_3.fast5','/TEST_onp_run/dssc/human_dataset_extended/ultra_extended',200)\n",
    "copy_with_new_id('original_dataset', 'nanopore2_20170303_FNFAF09968_MN17024_sequencing_run_170303_NA12878_PC_RAD002_4.fast5','/TEST_onp_run/dssc/human_dataset_extended/ultra_extended',200)\n",
    "copy_with_new_id('original_dataset', 'nanopore2_20170303_FNFAF09968_MN17024_sequencing_run_170303_NA12878_PC_RAD002_5.fast5','/TEST_onp_run/dssc/human_dataset_extended/ultra_extended',200)"
   ]
  },
  {
   "cell_type": "code",
   "execution_count": null,
   "metadata": {},
   "outputs": [],
   "source": [
    "copy_with_new_id('original_dataset', 'nanopore2_20170303_FNFAF09968_MN17024_sequencing_run_170303_NA12878_PC_RAD002_0.fast5','/TEST_onp_run/dssc/human_dataset_extended/ultra_extended_2',600)\n"
   ]
  },
  {
   "cell_type": "code",
   "execution_count": null,
   "metadata": {},
   "outputs": [],
   "source": [
    "\n",
    "copy_with_new_id('original_dataset', 'nanopore2_20170303_FNFAF09968_MN17024_sequencing_run_170303_NA12878_PC_RAD002_1.fast5','/TEST_onp_run/dssc/human_dataset_extended/ultra_extended_2',600)\n"
   ]
  },
  {
   "cell_type": "code",
   "execution_count": null,
   "metadata": {},
   "outputs": [],
   "source": [
    "\n",
    "copy_with_new_id('original_dataset', 'nanopore2_20170303_FNFAF09968_MN17024_sequencing_run_170303_NA12878_PC_RAD002_2.fast5','/TEST_onp_run/dssc/human_dataset_extended/ultra_extended_2',600, start_num_of_dup=45)\n"
   ]
  },
  {
   "cell_type": "code",
   "execution_count": null,
   "metadata": {},
   "outputs": [],
   "source": [
    "\n",
    "copy_with_new_id('original_dataset', 'nanopore2_20170303_FNFAF09968_MN17024_sequencing_run_170303_NA12878_PC_RAD002_3.fast5','/TEST_onp_run/dssc/human_dataset_extended/ultra_extended_2',600)\n"
   ]
  },
  {
   "cell_type": "code",
   "execution_count": null,
   "metadata": {},
   "outputs": [],
   "source": [
    "copy_with_new_id('original_dataset', 'nanopore2_20170303_FNFAF09968_MN17024_sequencing_run_170303_NA12878_PC_RAD002_4.fast5','/TEST_onp_run/dssc/human_dataset_extended/ultra_extended_2',600)\n"
   ]
  },
  {
   "cell_type": "code",
   "execution_count": null,
   "metadata": {},
   "outputs": [],
   "source": [
    "\n",
    "copy_with_new_id('original_dataset', 'nanopore2_20170303_FNFAF09968_MN17024_sequencing_run_170303_NA12878_PC_RAD002_5.fast5','/TEST_onp_run/dssc/human_dataset_extended/ultra_extended_2',600)"
   ]
  }
 ],
 "metadata": {
  "kernelspec": {
   "display_name": "nv-dashboard",
   "language": "python",
   "name": "nv-dashboard"
  },
  "language_info": {
   "codemirror_mode": {
    "name": "ipython",
    "version": 3
   },
   "file_extension": ".py",
   "mimetype": "text/x-python",
   "name": "python",
   "nbconvert_exporter": "python",
   "pygments_lexer": "ipython3",
   "version": "3.8.10"
  }
 },
 "nbformat": 4,
 "nbformat_minor": 4
}
